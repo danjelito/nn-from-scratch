{
 "cells": [
  {
   "attachments": {
    "image.png": {
     "image/png": "[encoded data removed]"
    }
   },
   "cell_type": "markdown",
   "metadata": {},
   "source": [
    "# Categorical cross entropy\n",
    "\n",
    "Used to compare actual probability (y) with predicted probability (y pred).\n",
    "\n",
    "![image.png](attachment:image.png)"
   ]
  },
  {
   "cell_type": "code",
   "execution_count": 2,
   "metadata": {},
   "outputs": [
    {
     "data": {
      "text/plain": [
       "(0.35667494393873245, 0.35667494393873245)"
      ]
     },
     "execution_count": 2,
     "metadata": {},
     "output_type": "execute_result"
    }
   ],
   "source": [
    "import numpy as np\n",
    "import math\n",
    "\n",
    "softmax_output= [0.7, 0.1, 0.2]\n",
    "target_output= [1, 0, 0]\n",
    "\n",
    "loss_manual= ((1 * math.log(0.7)) + (0 * math.log(0.1)) + (0 * math.log(0.1))) * -1\n",
    "loss_numpy= (target_output[0] * math.log(softmax_output[0]) + \n",
    "             target_output[1] * math.log(softmax_output[1]) + \n",
    "             target_output[2] * math.log(softmax_output[2])) * -1\n",
    "\n",
    "loss_manual, loss_numpy"
   ]
  },
  {
   "attachments": {
    "image.png": {
     "image/png": "[encoded data removed]"
    }
   },
   "cell_type": "markdown",
   "metadata": {},
   "source": [
    "As we cann see above, the proba for target is 1 for correct class, and 0 for incorrect classes. Therefore, we can make the formula simplter by omitting incorrect classes (since they are 0) and not multiplying with target output (since it is one). The formula becomes: \n",
    "\n",
    "![image.png](attachment:image.png)"
   ]
  },
  {
   "cell_type": "code",
   "execution_count": 4,
   "metadata": {},
   "outputs": [
    {
     "data": {
      "text/plain": [
       "0.35667494393873245"
      ]
     },
     "execution_count": 4,
     "metadata": {},
     "output_type": "execute_result"
    }
   ],
   "source": [
    "new_loss= -(math.log(softmax_output[0]))\n",
    "new_loss"
   ]
  },
  {
   "cell_type": "code",
   "execution_count": 10,
   "metadata": {},
   "outputs": [
    {
     "name": "stdout",
     "output_type": "stream",
     "text": [
      "6.907755278982137\n",
      "1.3832988521400922\n",
      "0.6921476802268619\n",
      "0.2873487946616606\n",
      "-0.0\n"
     ]
    }
   ],
   "source": [
    "# categorical cross entropy will output larger loss the lower the confidence is\n",
    "\n",
    "for i in np.linspace(0.001, 1, 5):\n",
    "    print(-math.log(i))"
   ]
  },
  {
   "attachments": {},
   "cell_type": "markdown",
   "metadata": {},
   "source": [
    "## What is log?"
   ]
  },
  {
   "cell_type": "code",
   "execution_count": 12,
   "metadata": {},
   "outputs": [
    {
     "data": {
      "text/plain": [
       "2.302585092994046"
      ]
     },
     "execution_count": 12,
     "metadata": {},
     "output_type": "execute_result"
    }
   ],
   "source": [
    "math.log(10)"
   ]
  },
  {
   "cell_type": "code",
   "execution_count": 14,
   "metadata": {},
   "outputs": [
    {
     "data": {
      "text/plain": [
       "10.000000000000002"
      ]
     },
     "execution_count": 14,
     "metadata": {},
     "output_type": "execute_result"
    }
   ],
   "source": [
    "math.e ** 2.302585092994046"
   ]
  },
  {
   "attachments": {},
   "cell_type": "markdown",
   "metadata": {},
   "source": [
    "## Calculation for single dimensional (categorical) output"
   ]
  },
  {
   "cell_type": "code",
   "execution_count": 18,
   "metadata": {},
   "outputs": [
    {
     "name": "stdout",
     "output_type": "stream",
     "text": [
      "confidence = 0.7, loss = 0.35667494393873245\n",
      "confidence = 0.5, loss = 0.6931471805599453\n",
      "confidence = 0.9, loss = 0.10536051565782628\n"
     ]
    }
   ],
   "source": [
    "softmax_outputs = [[0.7, 0.1, 0.2], # sample 1\n",
    "                   [0.1, 0.5, 0.4], # sample 2\n",
    "                   [0.02, 0.9, 0.08]] # sample 3\n",
    "# class 0 = dog\n",
    "# class 1 = cat\n",
    "# class 2 = human\n",
    "class_targets = [0, 1, 1] # dog, cat, cat\n",
    "\n",
    "for target_idx, y_probs in zip(class_targets, softmax_outputs):\n",
    "    y_prob= y_probs[target_idx]\n",
    "    print(f'confidence = {y_prob}, loss = {-math.log(y_prob)}')"
   ]
  },
  {
   "cell_type": "code",
   "execution_count": 26,
   "metadata": {},
   "outputs": [
    {
     "data": {
      "text/plain": [
       "array([0.7, 0.5, 0.9])"
      ]
     },
     "execution_count": 26,
     "metadata": {},
     "output_type": "execute_result"
    }
   ],
   "source": [
    "# simplified with numpy\n",
    "\n",
    "softmax_outputs = np.array([[0.7, 0.1, 0.2], # sample 1\n",
    "                            [0.1, 0.5, 0.4], # sample 2\n",
    "                            [0.02, 0.9, 0.08]]) # sample 3\n",
    "# class 0 = dog\n",
    "# class 1 = cat\n",
    "# class 2 = human\n",
    "class_targets = [0, 1, 1] # dog, cat, cat\n",
    "\n",
    "n_samples= softmax_outputs.shape[0] # return 3 \n",
    "softmax_outputs[range(n_samples), class_targets]"
   ]
  },
  {
   "cell_type": "code",
   "execution_count": 37,
   "metadata": {},
   "outputs": [
    {
     "data": {
      "text/plain": [
       "array([0.35667494, 0.69314718, 0.10536052])"
      ]
     },
     "execution_count": 37,
     "metadata": {},
     "output_type": "execute_result"
    }
   ],
   "source": [
    "# simplified with numpy, now with proba\n",
    "\n",
    "softmax_outputs = np.array([[0.7, 0.1, 0.2], # sample 1\n",
    "                            [0.1, 0.5, 0.4], # sample 2\n",
    "                            [0.02, 0.9, 0.08]]) # sample 3\n",
    "# class 0 = dog\n",
    "# class 1 = cat\n",
    "# class 2 = human\n",
    "class_targets = [0, 1, 1] # dog, cat, cat\n",
    "\n",
    "n_samples= softmax_outputs.shape[0] # return 3 \n",
    "y_pred= softmax_outputs[range(n_samples), class_targets]\n",
    "neg_log= - np.log(y_pred)\n",
    "neg_log"
   ]
  },
  {
   "cell_type": "code",
   "execution_count": 38,
   "metadata": {},
   "outputs": [
    {
     "name": "stdout",
     "output_type": "stream",
     "text": [
      "0.38506088005216804\n"
     ]
    }
   ],
   "source": [
    "avg_loss= np.mean(neg_log)\n",
    "print(avg_loss)"
   ]
  },
  {
   "attachments": {},
   "cell_type": "markdown",
   "metadata": {},
   "source": [
    "## Calculation for one-hot output"
   ]
  },
  {
   "cell_type": "code",
   "execution_count": 43,
   "metadata": {},
   "outputs": [
    {
     "name": "stdout",
     "output_type": "stream",
     "text": [
      "(3,)\n",
      "1\n",
      "(3, 3)\n",
      "2\n"
     ]
    }
   ],
   "source": [
    "softmax_outputs = np.array([[0.7, 0.1, 0.2], \n",
    "                            [0.1, 0.5, 0.4], \n",
    "                            [0.02, 0.9, 0.08]])\n",
    "\n",
    "cat_output= np.array([0, 1, 1])\n",
    "\n",
    "oh_output = np.array([[1, 0, 0], \n",
    "                      [0, 1, 0], \n",
    "                      [0, 1, 0]])\n",
    "\n",
    "# cat output is always 1 d\n",
    "# one-hot output wil have more then 1d (usually 2)\n",
    "print(cat_output.shape)\n",
    "print(len(cat_output.shape))\n",
    "\n",
    "print(oh_output.shape)\n",
    "print(len(oh_output.shape))"
   ]
  },
  {
   "cell_type": "code",
   "execution_count": 45,
   "metadata": {},
   "outputs": [
    {
     "data": {
      "text/plain": [
       "array([[0.7, 0. , 0. ],\n",
       "       [0. , 0.5, 0. ],\n",
       "       [0. , 0.9, 0. ]])"
      ]
     },
     "execution_count": 45,
     "metadata": {},
     "output_type": "execute_result"
    }
   ],
   "source": [
    "# if we multiply y_pred with y_true, all other value will be 0 \n",
    "softmax_outputs * oh_output"
   ]
  },
  {
   "cell_type": "code",
   "execution_count": 48,
   "metadata": {},
   "outputs": [
    {
     "data": {
      "text/plain": [
       "array([0.7, 0.5, 0.9])"
      ]
     },
     "execution_count": 48,
     "metadata": {},
     "output_type": "execute_result"
    }
   ],
   "source": [
    "# take the sum and we'll get one number per sample\n",
    "np.sum(softmax_outputs * oh_output, axis= 1)"
   ]
  },
  {
   "cell_type": "code",
   "execution_count": 53,
   "metadata": {},
   "outputs": [
    {
     "data": {
      "text/plain": [
       "array([-0.35667494, -0.69314718, -0.10536052])"
      ]
     },
     "execution_count": 53,
     "metadata": {},
     "output_type": "execute_result"
    }
   ],
   "source": [
    "# then do the rest\n",
    "np.log(np.sum(softmax_outputs * oh_output, axis= 1))"
   ]
  },
  {
   "cell_type": "code",
   "execution_count": 88,
   "metadata": {},
   "outputs": [
    {
     "name": "stdout",
     "output_type": "stream",
     "text": [
      "0.38506088005216804\n",
      "0.38506088005216804\n"
     ]
    }
   ],
   "source": [
    "def cat_cross_entropy(y_true, y_pred):\n",
    "\n",
    "    dimension= len(y_true.shape)\n",
    "    n_samples= y_true.shape[0]\n",
    "\n",
    "    # for categorical output\n",
    "    if dimension == 1:\n",
    "        y_pred_proba= y_pred[range(n_samples), y_true]\n",
    "    \n",
    "    # for one-hot output\n",
    "    else: \n",
    "        y_pred_proba= np.sum(y_true * y_pred, axis= 1)\n",
    "        \n",
    "    neg_log= -(np.log(y_pred_proba))\n",
    "    avg_neg_log= np.mean(neg_log)\n",
    "\n",
    "    return avg_neg_log\n",
    "\n",
    "\n",
    "softmax_outputs = np.array([[0.7, 0.1, 0.2], \n",
    "                            [0.1, 0.5, 0.4], \n",
    "                            [0.02, 0.9, 0.08]])\n",
    "\n",
    "cat_output= np.array([0, 1, 1])\n",
    "\n",
    "oh_output = np.array([[1, 0, 0], \n",
    "                      [0, 1, 0], \n",
    "                      [0, 1, 0]])\n",
    "\n",
    "print(cat_cross_entropy(cat_output, softmax_outputs))\n",
    "print(cat_cross_entropy(oh_output, softmax_outputs))"
   ]
  },
  {
   "cell_type": "code",
   "execution_count": null,
   "metadata": {},
   "outputs": [],
   "source": []
  }
 ],
 "metadata": {
  "kernelspec": {
   "display_name": "nnfs",
   "language": "python",
   "name": "python3"
  },
  "language_info": {
   "codemirror_mode": {
    "name": "ipython",
    "version": 3
   },
   "file_extension": ".py",
   "mimetype": "text/x-python",
   "name": "python",
   "nbconvert_exporter": "python",
   "pygments_lexer": "ipython3",
   "version": "3.10.11"
  },
  "orig_nbformat": 4
 },
 "nbformat": 4,
 "nbformat_minor": 2
}
