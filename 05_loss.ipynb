{
 "cells": [
  {
   "attachments": {
    "image.png": {
     "image/png": "[encoded data removed]"
    }
   },
   "cell_type": "markdown",
   "metadata": {},
   "source": [
    "# Categorical cross entropy\n",
    "![image.png](attachment:image.png)"
   ]
  },
  {
   "cell_type": "code",
   "execution_count": 5,
   "metadata": {},
   "outputs": [
    {
     "data": {
      "text/plain": [
       "(0.35667494393873245, 0.35667494393873245)"
      ]
     },
     "execution_count": 5,
     "metadata": {},
     "output_type": "execute_result"
    }
   ],
   "source": [
    "import numpy as np\n",
    "import math\n",
    "\n",
    "softmax_output= [0.7, 0.1, 0.2]\n",
    "target_output= [1, 0, 0]\n",
    "\n",
    "loss_manual= ((1 * math.log(0.7)) + (0 * math.log(0.1)) + (0 * math.log(0.1))) * -1\n",
    "loss_numpy= (target_output[0] * math.log(softmax_output[0]) + \n",
    "             target_output[1] * math.log(softmax_output[1]) + \n",
    "             target_output[2] * math.log(softmax_output[2])) * -1\n",
    "\n",
    "loss_manual, loss_numpy"
   ]
  },
  {
   "cell_type": "code",
   "execution_count": null,
   "metadata": {},
   "outputs": [],
   "source": []
  }
 ],
 "metadata": {
  "kernelspec": {
   "display_name": "nnfs",
   "language": "python",
   "name": "python3"
  },
  "language_info": {
   "codemirror_mode": {
    "name": "ipython",
    "version": 3
   },
   "file_extension": ".py",
   "mimetype": "text/x-python",
   "name": "python",
   "nbconvert_exporter": "python",
   "pygments_lexer": "ipython3",
   "version": "3.10.11"
  },
  "orig_nbformat": 4
 },
 "nbformat": 4,
 "nbformat_minor": 2
}
