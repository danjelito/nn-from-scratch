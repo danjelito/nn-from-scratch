{
 "cells": [
  {
   "attachments": {},
   "cell_type": "markdown",
   "metadata": {},
   "source": [
    "The ​partial derivative​ measures how much impact a single input has on a function’s output.\n",
    "\n",
    "Partial means that we are deriving with respect to each of the variable separately.\n",
    "\n",
    "To calculate -> take other input as a constant."
   ]
  },
  {
   "cell_type": "code",
   "execution_count": 3,
   "metadata": {},
   "outputs": [],
   "source": [
    "import numpy as np\n",
    "import sympy\n",
    "from sympy.abc import x, y, z"
   ]
  },
  {
   "cell_type": "code",
   "execution_count": 13,
   "metadata": {},
   "outputs": [
    {
     "data": {
      "text/latex": [
       "$\\displaystyle 2 x + 3 y^{2}$"
      ],
      "text/plain": [
       "2*x + 3*y**2"
      ]
     },
     "execution_count": 13,
     "metadata": {},
     "output_type": "execute_result"
    }
   ],
   "source": [
    "f= 2*x + 3*y**2\n",
    "f"
   ]
  },
  {
   "cell_type": "code",
   "execution_count": 14,
   "metadata": {},
   "outputs": [
    {
     "name": "stdout",
     "output_type": "stream",
     "text": [
      "dfdx = derivative of f with respect to x = 2\n",
      "dfdy = derivative of f with respect to y = 6*y\n"
     ]
    }
   ],
   "source": [
    "dfdx= sympy.diff(f, x)\n",
    "print(f'dfdx = derivative of f with respect to x = {dfdx}')\n",
    "\n",
    "dfdy= sympy.diff(f, y)\n",
    "print(f'dfdy = derivative of f with respect to y = {dfdy}')"
   ]
  },
  {
   "cell_type": "code",
   "execution_count": 16,
   "metadata": {},
   "outputs": [
    {
     "data": {
      "text/latex": [
       "$\\displaystyle 3 x^{3} + 5 x - y^{2} + 2$"
      ],
      "text/plain": [
       "3*x**3 + 5*x - y**2 + 2"
      ]
     },
     "execution_count": 16,
     "metadata": {},
     "output_type": "execute_result"
    }
   ],
   "source": [
    "f= 3*x**3 - y**2 + 5*x + 2\n",
    "f"
   ]
  },
  {
   "cell_type": "code",
   "execution_count": 17,
   "metadata": {},
   "outputs": [
    {
     "name": "stdout",
     "output_type": "stream",
     "text": [
      "dfdx = derivative of f with respect to x = 9*x**2 + 5\n",
      "dfdy = derivative of f with respect to y = -2*y\n"
     ]
    }
   ],
   "source": [
    "dfdx= sympy.diff(f, x)\n",
    "print(f'dfdx = derivative of f with respect to x = {dfdx}')\n",
    "\n",
    "dfdy= sympy.diff(f, y)\n",
    "print(f'dfdy = derivative of f with respect to y = {dfdy}')"
   ]
  },
  {
   "cell_type": "code",
   "execution_count": 19,
   "metadata": {},
   "outputs": [
    {
     "data": {
      "text/latex": [
       "$\\displaystyle 3 x^{3} z - y^{2} + 2 y z + 5 z$"
      ],
      "text/plain": [
       "3*x**3*z - y**2 + 2*y*z + 5*z"
      ]
     },
     "execution_count": 19,
     "metadata": {},
     "output_type": "execute_result"
    }
   ],
   "source": [
    "f= 3*x**3*z - y**2 + 5*z + 2*y*z\n",
    "f"
   ]
  },
  {
   "cell_type": "code",
   "execution_count": 27,
   "metadata": {},
   "outputs": [
    {
     "name": "stdout",
     "output_type": "stream",
     "text": [
      "dfdx = derivative of f with respect to x = 9*x**2*z\n",
      "dfdy = derivative of f with respect to y = -2*y + 2*z\n",
      "dfdz = derivative of f with respect to z = 3*x**3 + 2*y + 5\n"
     ]
    }
   ],
   "source": [
    "dfdx= sympy.diff(f, x)\n",
    "print(f'dfdx = derivative of f with respect to x = {dfdx}')\n",
    "\n",
    "dfdy= sympy.diff(f, y)\n",
    "print(f'dfdy = derivative of f with respect to y = {dfdy}')\n",
    "\n",
    "dfdz= sympy.diff(f, z)\n",
    "print(f'dfdz = derivative of f with respect to z = {dfdz}')"
   ]
  },
  {
   "cell_type": "code",
   "execution_count": null,
   "metadata": {},
   "outputs": [],
   "source": []
  }
 ],
 "metadata": {
  "kernelspec": {
   "display_name": "nnfs",
   "language": "python",
   "name": "python3"
  },
  "language_info": {
   "codemirror_mode": {
    "name": "ipython",
    "version": 3
   },
   "file_extension": ".py",
   "mimetype": "text/x-python",
   "name": "python",
   "nbconvert_exporter": "python",
   "pygments_lexer": "ipython3",
   "version": "3.10.11"
  },
  "orig_nbformat": 4
 },
 "nbformat": 4,
 "nbformat_minor": 2
}
